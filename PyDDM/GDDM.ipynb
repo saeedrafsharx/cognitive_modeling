{
 "cells": [
  {
   "cell_type": "code",
   "execution_count": 1,
   "metadata": {},
   "outputs": [],
   "source": [
    "import matplotlib.pyplot as plt\n",
    "import pyddm"
   ]
  },
  {
   "cell_type": "markdown",
   "metadata": {},
   "source": [
    "#### **There are two ways to build models with PyDDM: the classic object-oriented interface, and the gddm() function.**"
   ]
  },
  {
   "cell_type": "markdown",
   "metadata": {},
   "source": [
    "#### Here is the gddm() function discussed."
   ]
  },
  {
   "cell_type": "markdown",
   "metadata": {},
   "source": [
    "##### **The Components of the gddm() function:**\n"
   ]
  },
  {
   "cell_type": "markdown",
   "metadata": {},
   "source": [
    "drift: the drift rate, i.e., the amount of evidence that would be accumulated in 1 sec if there was no noise.\n",
    "\n",
    "noise: the noise level, i.e., the standard deviation of noise. By tradition, this is frequently set to 0.1 or 1.0. If not specified, it defaults to 1.0.\n",
    "\n",
    "bound: the height of the boundary on each side. (So, the total separation of the boundaries will be twice this value.)\n",
    "\n",
    "starting_position: the initial position of the diffusion process. A value of 1 indicates a starting position on the upper boundary, -1 on the bottom boundary, and 0 in between. (This differs from some other packages, which define 0 as the lower boundary and 1 as the upper boundary.)\n",
    "\n",
    "nondecision: the non-decision time, in units of seconds. Both positive and negative values are valid (though usually you will want it to be positive).\n",
    "\n",
    "mixture_coef: By default, PyDDM returns an RT distribution which is a mixture model of the GDDM RT distribution and the uniform distribution. This parameter defines the ratio of uniform distribution to GDDM RT distribution. Set to 0 to disable the mixture model. By default, this is 0.02. (Mixture models assist with model fitting when using maximum likelihood, which we will discuss later in this tutorial.)"
   ]
  },
  {
   "cell_type": "code",
   "execution_count": 12,
   "metadata": {},
   "outputs": [],
   "source": [
    "model = pyddm.gddm(drift=\"d\", noise=1.0, bound=0.6, starting_position=0.3, nondecision=0.2, parameters= {\"d\": (-2, 2)})"
   ]
  },
  {
   "cell_type": "code",
   "execution_count": 3,
   "metadata": {},
   "outputs": [
    {
     "name": "stdout",
     "output_type": "stream",
     "text": [
      "Model information:\n",
      "Choices: 'correct' (upper boundary), 'error' (lower boundary)\n",
      "Drift component DriftConstant:\n",
      "    constant\n",
      "    Fixed parameters:\n",
      "    - drift: 0.500000\n",
      "Noise component NoiseConstant:\n",
      "    constant\n",
      "    Fixed parameters:\n",
      "    - noise: 1.000000\n",
      "Bound component BoundConstant:\n",
      "    constant\n",
      "    Fixed parameters:\n",
      "    - B: 0.600000\n",
      "IC component ICPointRatio:\n",
      "    An arbitrary starting point expressed as a proportion of the distance between the bounds.\n",
      "    Fixed parameters:\n",
      "    - x0: 0.300000\n",
      "Overlay component OverlayChain:\n",
      "    Overlay component OverlayNonDecision:\n",
      "        Add a non-decision by shifting the histogram\n",
      "        Fixed parameters:\n",
      "        - nondectime: 0.200000\n",
      "    Overlay component OverlayUniformMixture:\n",
      "        Uniform distribution mixture model\n",
      "        Fixed parameters:\n",
      "        - umixturecoef: 0.020000\n",
      "\n"
     ]
    }
   ],
   "source": [
    "model.show()"
   ]
  },
  {
   "cell_type": "code",
   "execution_count": 4,
   "metadata": {},
   "outputs": [],
   "source": [
    "# Solving OR Simulating the model.\n",
    "sol = model.solve()"
   ]
  },
  {
   "cell_type": "code",
   "execution_count": 5,
   "metadata": {},
   "outputs": [],
   "source": [
    "# Model with Free parameters instead of constant ones.\n",
    "model_to_fit = pyddm.gddm(drift=\"d\", noise=1.0, bound =\"B\", nondecision=0.2,\n",
    "                           starting_position=\"x0\", parameters={\"d\": (-2,2), \"B\":(0.3, 2), \"x0\": (-.8, .8)})"
   ]
  },
  {
   "cell_type": "code",
   "execution_count": 6,
   "metadata": {},
   "outputs": [
    {
     "name": "stdout",
     "output_type": "stream",
     "text": [
      "Model information:\n",
      "Choices: 'correct' (upper boundary), 'error' (lower boundary)\n",
      "Drift component DriftConstant:\n",
      "    constant\n",
      "    Fittable parameters:\n",
      "    - drift: Fittable (default -0.723178)\n",
      "Noise component NoiseConstant:\n",
      "    constant\n",
      "    Fixed parameters:\n",
      "    - noise: 1.000000\n",
      "Bound component BoundConstant:\n",
      "    constant\n",
      "    Fittable parameters:\n",
      "    - B: Fittable (default 1.412608)\n",
      "IC component ICPointRatio:\n",
      "    An arbitrary starting point expressed as a proportion of the distance between the bounds.\n",
      "    Fittable parameters:\n",
      "    - x0: Fittable (default -0.376964)\n",
      "Overlay component OverlayChain:\n",
      "    Overlay component OverlayNonDecision:\n",
      "        Add a non-decision by shifting the histogram\n",
      "        Fixed parameters:\n",
      "        - nondectime: 0.200000\n",
      "    Overlay component OverlayUniformMixture:\n",
      "        Uniform distribution mixture model\n",
      "        Fixed parameters:\n",
      "        - umixturecoef: 0.020000\n",
      "\n"
     ]
    }
   ],
   "source": [
    "model_to_fit.show()"
   ]
  },
  {
   "cell_type": "code",
   "execution_count": 7,
   "metadata": {},
   "outputs": [],
   "source": [
    "# We can viualize the model using the model GUI to make sure it behaves right.\n",
    "import pyddm.plot"
   ]
  },
  {
   "cell_type": "code",
   "execution_count": 13,
   "metadata": {},
   "outputs": [
    {
     "data": {
      "application/vnd.jupyter.widget-view+json": {
       "model_id": "73a14dfe6d8c462b82d43c1cc4d9fb60",
       "version_major": 2,
       "version_minor": 0
      },
      "text/plain": [
       "HBox(children=(VBox(children=(FloatSlider(value=0.6949769418870213, continuous_update=False, description='drif…"
      ]
     },
     "metadata": {},
     "output_type": "display_data"
    },
    {
     "data": {
      "application/vnd.jupyter.widget-view+json": {
       "model_id": "3830c8f9157143f295468a44c628c3bd",
       "version_major": 2,
       "version_minor": 0
      },
      "text/plain": [
       "Output()"
      ]
     },
     "metadata": {},
     "output_type": "display_data"
    }
   ],
   "source": [
    "pyddm.plot.model_gui_jupyter(model) # jupyter if using the notebook."
   ]
  },
  {
   "cell_type": "code",
   "execution_count": null,
   "metadata": {},
   "outputs": [],
   "source": [
    "# Simulating observations.\n",
    "samp_simulated = sol.sample(10000)"
   ]
  },
  {
   "cell_type": "code",
   "execution_count": 8,
   "metadata": {},
   "outputs": [
    {
     "name": "stderr",
     "output_type": "stream",
     "text": [
      "Info: Params [0.53359442 0.5966303  0.27881176] gave 5320.636490039751\n"
     ]
    }
   ],
   "source": [
    "# Fitting the model above to recover parameters.\n",
    "model_to_fit.fit(samp_simulated, lossfunction=pyddm.LossBIC, verbose=False)"
   ]
  },
  {
   "cell_type": "code",
   "execution_count": 16,
   "metadata": {},
   "outputs": [
    {
     "name": "stdout",
     "output_type": "stream",
     "text": [
      "Model information:\n",
      "Choices: 'correct' (upper boundary), 'error' (lower boundary)\n",
      "Drift component DriftConstant:\n",
      "    constant\n",
      "    Fitted parameters:\n",
      "    - drift: 0.500641\n",
      "Noise component NoiseConstant:\n",
      "    constant\n",
      "    Fixed parameters:\n",
      "    - noise: 1.000000\n",
      "Bound component BoundConstant:\n",
      "    constant\n",
      "    Fitted parameters:\n",
      "    - B: 0.602638\n",
      "IC component ICPointRatio:\n",
      "    An arbitrary starting point expressed as a proportion of the distance between the bounds.\n",
      "    Fitted parameters:\n",
      "    - x0: 0.292100\n",
      "Overlay component OverlayChain:\n",
      "    Overlay component OverlayNonDecision:\n",
      "        Add a non-decision by shifting the histogram\n",
      "        Fixed parameters:\n",
      "        - nondectime: 0.200000\n",
      "    Overlay component OverlayUniformMixture:\n",
      "        Uniform distribution mixture model\n",
      "        Fixed parameters:\n",
      "        - umixturecoef: 0.020000\n",
      "Fit information:\n",
      "    Loss function: BIC\n",
      "    Loss function value: 5399.697006237305\n",
      "    Fitting method: differential_evolution\n",
      "    Solver: auto\n",
      "    Other properties:\n",
      "        - nparams: 3\n",
      "        - samplesize: 10000\n",
      "        - mess: ''\n",
      "\n"
     ]
    }
   ],
   "source": [
    "model_to_fit.show()"
   ]
  },
  {
   "cell_type": "code",
   "execution_count": 9,
   "metadata": {},
   "outputs": [],
   "source": [
    "# Obtaining the fitted parameters.\n",
    "params = model_to_fit.parameters()"
   ]
  },
  {
   "cell_type": "code",
   "execution_count": 19,
   "metadata": {},
   "outputs": [
    {
     "data": {
      "text/plain": [
       "{'drift': {'drift': Fitted(0.5006414772660374, minval=-2, maxval=2)},\n",
       " 'noise': {'noise': 1.0},\n",
       " 'bound': {'B': Fitted(0.6026383823901109, minval=0.3, maxval=2)},\n",
       " 'IC': {'x0': Fitted(0.2920997691398478, minval=-0.8, maxval=0.8)},\n",
       " 'overlay': {'nondectime': 0.2, 'umixturecoef': 0.02}}"
      ]
     },
     "execution_count": 19,
     "metadata": {},
     "output_type": "execute_result"
    }
   ],
   "source": [
    "params"
   ]
  },
  {
   "cell_type": "code",
   "execution_count": 21,
   "metadata": {},
   "outputs": [
    {
     "data": {
      "text/plain": [
       "5399.697006237305"
      ]
     },
     "execution_count": 21,
     "metadata": {},
     "output_type": "execute_result"
    }
   ],
   "source": [
    "# To get the value of BIC\n",
    "model_to_fit.get_fit_result().value()"
   ]
  },
  {
   "cell_type": "code",
   "execution_count": 10,
   "metadata": {},
   "outputs": [
    {
     "data": {
      "image/png": "[encoded data removed]",
      "text/plain": [
       "<Figure size 432x288 with 2 Axes>"
      ]
     },
     "metadata": {
      "needs_background": "light"
     },
     "output_type": "display_data"
    }
   ],
   "source": [
    "# Plot the model fit to the PDFs and save the file.\n",
    "\n",
    "pyddm.plot.plot_fit_diagnostics(model=model_to_fit, sample=samp_simulated)\n",
    "plt.savefig(\"simple-fit.png\")\n",
    "plt.show()"
   ]
  },
  {
   "cell_type": "markdown",
   "metadata": {},
   "source": [
    "Using the Solution object sol we have access to a number of other useful functions. For instance, we can find the probability of a response using prob(), such as sol.prob(\"correct\") for the probability of a correct response, or the entire histogram of responses using pdf(), such as sol.pdf(\"error\") for the distribution of errors."
   ]
  },
  {
   "cell_type": "code",
   "execution_count": 23,
   "metadata": {},
   "outputs": [
    {
     "name": "stdout",
     "output_type": "stream",
     "text": [
      "0.7684127047085341\n",
      "[0.00497888 0.00497888 0.00497888 0.00497888 0.00497888 0.00497888\n",
      " 0.00497888 0.00497888 0.00497888 0.00497888 0.00497888 0.00497888\n",
      " 0.00497888 0.00497888 0.00497888 0.00497888 0.00497888 0.00497888\n",
      " 0.00497888 0.00497888 0.00497888 0.00497888 0.00497888 0.00497888\n",
      " 0.00497888 0.00497888 0.00497888 0.00497888 0.00497888 0.00497888\n",
      " 0.00497888 0.00497888 0.00497888 0.00497888 0.00497888 0.00497888\n",
      " 0.00497888 0.00497888 0.00497888 0.00497888 0.00497888 0.00497888\n",
      " 0.00497888 0.00497906 0.00499694 0.00524934 0.00654131 0.01025378\n",
      " 0.01776636 0.02991125 0.04680417 0.0679705  0.0925778  0.11965128\n",
      " 0.14822687 0.17744062 0.20656943 0.23504011 0.26242043 0.2884014\n",
      " 0.31277674 0.33542266 0.35627969 0.37533715 0.39262034 0.4081803\n",
      " 0.4220857  0.43441661 0.44525982 0.45470528 0.46284354 0.46976389\n",
      " 0.47555312 0.48029459 0.48406777 0.48694788 0.48900579 0.49030798\n",
      " 0.49091666 0.49088985 0.4902816  0.48914219 0.48751827 0.48545318\n",
      " 0.48298705 0.48015709 0.47699775 0.47354092 0.46981609 0.46585056\n",
      " 0.46166954 0.45729637 0.45275258 0.44805808 0.44323124 0.43828903\n",
      " 0.43324709 0.42811987 0.42292067 0.41766175 0.4123544  0.40700899\n",
      " 0.4016351  0.39624148 0.39083621 0.38542667 0.38001963 0.3746213\n",
      " 0.36923733 0.36387289 0.35853271 0.35322106 0.34794185 0.34269859\n",
      " 0.33749448 0.3323324  0.32721493 0.32214439 0.31712283 0.31215211\n",
      " 0.30723383 0.30236943 0.29756015 0.29280705 0.28811106 0.28347295\n",
      " 0.27889335 0.27437279 0.26991167 0.26551029 0.26116886 0.25688749\n",
      " 0.25266622 0.24850502 0.24440377 0.24036232 0.23638043 0.23245784\n",
      " 0.22859422 0.22478921 0.2210424  0.21735336 0.21372162 0.21014667\n",
      " 0.20662801 0.20316507 0.1997573  0.19640411 0.1931049  0.18985905\n",
      " 0.18666596 0.18352497 0.18043544 0.17739673 0.17440818 0.17146913\n",
      " 0.16857892 0.16573687 0.16294232 0.16019462 0.15749307 0.15483704\n",
      " 0.15222584 0.14965881 0.14713531 0.14465467 0.14221625 0.13981939\n",
      " 0.13746346 0.13514782 0.13287185 0.1306349  0.12843638 0.12627566\n",
      " 0.12415214 0.12206522 0.12001432 0.11799883 0.11601819 0.11407182\n",
      " 0.11215917 0.11027966 0.10843276 0.10661793 0.10483462 0.10308232\n",
      " 0.10136049 0.09966864 0.09800625 0.09637282 0.09476787 0.09319092\n",
      " 0.09164149 0.0901191  0.08862331 0.08715365 0.08570968 0.08429095\n",
      " 0.08289704 0.08152752 0.08018197 0.07885998 0.07756113 0.07628504\n",
      " 0.07503131 0.07379954 0.07258937 0.07140042 0.07023231 0.0690847\n",
      " 0.06795721 0.06684951 0.06576125 0.06469208 0.06364169 0.06260973\n",
      " 0.0615959  0.06059987 0.05962133 0.05865998 0.05771552 0.05678765\n",
      " 0.05587608 0.05498054 0.05410073 0.05323638 0.05238722 0.051553\n",
      " 0.05073343 0.04992828 0.04913728 0.04836019 0.04759676 0.04684675\n",
      " 0.04610994 0.04538608 0.04467496 0.04397634 0.04329001 0.04261575\n",
      " 0.04195335 0.0413026  0.0406633  0.04003525 0.03941825 0.0388121\n",
      " 0.03821662 0.03763161 0.03705689 0.03649229 0.03593762 0.03539271\n",
      " 0.03485739 0.03433149 0.03381485 0.03330729 0.03280867 0.03231882\n",
      " 0.03183759 0.03136483 0.03090039 0.03044412 0.02999589 0.02955554\n",
      " 0.02912294 0.02869795 0.02828045 0.02787029 0.02746735 0.0270715\n",
      " 0.02668262 0.02630059 0.02592528 0.02555657 0.02519435 0.02483851\n",
      " 0.02448893 0.02414551 0.02380813 0.02347669 0.02315108 0.0228312\n",
      " 0.02251695 0.02220824 0.02190496 0.02160701 0.02131431 0.02102677\n",
      " 0.02074428 0.02046677 0.02019414 0.01992631 0.01966319 0.01940471\n",
      " 0.01915078 0.01890131 0.01865624 0.01841548 0.01817896 0.0179466\n",
      " 0.01771833 0.01749408 0.01727378 0.01705735 0.01684474 0.01663586\n",
      " 0.01643067 0.01622908 0.01603105 0.0158365  0.01564537 0.01545761\n",
      " 0.01527316 0.01509195 0.01491393 0.01473904 0.01456724 0.01439845\n",
      " 0.01423264 0.01406975 0.01390972 0.01375251 0.01359807 0.01344635\n",
      " 0.0132973  0.01315087 0.01300702 0.0128657  0.01272687 0.01259048\n",
      " 0.0124565  0.01232487 0.01219556 0.01206852 0.01194372 0.01182112\n",
      " 0.01170068 0.01158236 0.01146612 0.01135192 0.01123974 0.01112953\n",
      " 0.01102126 0.01091489 0.0108104  0.01070775 0.01060691 0.01050784\n",
      " 0.01041051 0.0103149  0.01022097 0.01012869 0.01003804 0.00994898\n",
      " 0.0098615  0.00977555 0.00969111 0.00960816 0.00952667 0.00944662\n",
      " 0.00936797 0.00929071 0.00921481 0.00914025 0.009067   0.00899503\n",
      " 0.00892434 0.00885488 0.00878666 0.00871963 0.00865378 0.00858909\n",
      " 0.00852554 0.00846311 0.00840178 0.00834152 0.00828233 0.00822418\n",
      " 0.00816705 0.00811093 0.0080558  0.00800164 0.00794843 0.00789615\n",
      " 0.0078448  0.00779435 0.00774479 0.0076961  0.00764827 0.00760128\n",
      " 0.00755512 0.00750977 0.00746522 0.00742145 0.00737846 0.00733622\n",
      " 0.00729472 0.00725396 0.00721391 0.00717457 0.00713592]\n"
     ]
    }
   ],
   "source": [
    "print(sol.prob(\"correct\"))\n",
    "print(sol.pdf(\"error\"))"
   ]
  },
  {
   "cell_type": "code",
   "execution_count": 11,
   "metadata": {},
   "outputs": [],
   "source": [
    "# Model components can be defined by functions.\n",
    "# Name of the parameter should be an argument of the function."
   ]
  },
  {
   "cell_type": "code",
   "execution_count": 12,
   "metadata": {},
   "outputs": [],
   "source": [
    "mdodel_to_fit = pyddm.gddm(drift=lambda d : d, noise=1.0,\n",
    "                           bound=lambda B : B, nondecision=0.2,\n",
    "                           starting_position=lambda x0 : x0,\n",
    "                           parameters={\"d\": (-2,2), \"B\": (0.3, 2), \"x0\": (-.8, .8)})"
   ]
  },
  {
   "cell_type": "code",
   "execution_count": 14,
   "metadata": {},
   "outputs": [
    {
     "name": "stdout",
     "output_type": "stream",
     "text": [
      "Model information:\n",
      "Choices: 'correct' (upper boundary), 'error' (lower boundary)\n",
      "Drift component DriftConstant:\n",
      "    constant\n",
      "    Fitted parameters:\n",
      "    - drift: 0.533594\n",
      "Noise component NoiseConstant:\n",
      "    constant\n",
      "    Fixed parameters:\n",
      "    - noise: 1.000000\n",
      "Bound component BoundConstant:\n",
      "    constant\n",
      "    Fitted parameters:\n",
      "    - B: 0.596630\n",
      "IC component ICPointRatio:\n",
      "    An arbitrary starting point expressed as a proportion of the distance between the bounds.\n",
      "    Fitted parameters:\n",
      "    - x0: 0.278812\n",
      "Overlay component OverlayChain:\n",
      "    Overlay component OverlayNonDecision:\n",
      "        Add a non-decision by shifting the histogram\n",
      "        Fixed parameters:\n",
      "        - nondectime: 0.200000\n",
      "    Overlay component OverlayUniformMixture:\n",
      "        Uniform distribution mixture model\n",
      "        Fixed parameters:\n",
      "        - umixturecoef: 0.020000\n",
      "Fit information:\n",
      "    Loss function: BIC\n",
      "    Loss function value: 5320.636490039751\n",
      "    Fitting method: differential_evolution\n",
      "    Solver: auto\n",
      "    Other properties:\n",
      "        - nparams: 3\n",
      "        - samplesize: 10000\n",
      "        - mess: ''\n",
      "\n"
     ]
    }
   ],
   "source": [
    "model_to_fit.show()"
   ]
  },
  {
   "cell_type": "code",
   "execution_count": 19,
   "metadata": {},
   "outputs": [
    {
     "name": "stderr",
     "output_type": "stream",
     "text": [
      "Info: Params [0.51789526 0.59841864 0.28572024] gave 5322.585912655252\n"
     ]
    }
   ],
   "source": [
    "model_to_fit.fit(samp_simulated, lossfunction=pyddm.LossBIC, verbose = False)"
   ]
  },
  {
   "cell_type": "code",
   "execution_count": 23,
   "metadata": {},
   "outputs": [
    {
     "name": "stdout",
     "output_type": "stream",
     "text": [
      "Model information:\n",
      "Choices: 'correct' (upper boundary), 'error' (lower boundary)\n",
      "Drift component DriftConstant:\n",
      "    constant\n",
      "    Fitted parameters:\n",
      "    - drift: 0.517895\n",
      "Noise component NoiseConstant:\n",
      "    constant\n",
      "    Fixed parameters:\n",
      "    - noise: 1.000000\n",
      "Bound component BoundConstant:\n",
      "    constant\n",
      "    Fitted parameters:\n",
      "    - B: 0.598419\n",
      "IC component ICPointRatio:\n",
      "    An arbitrary starting point expressed as a proportion of the distance between the bounds.\n",
      "    Fitted parameters:\n",
      "    - x0: 0.285720\n",
      "Overlay component OverlayChain:\n",
      "    Overlay component OverlayNonDecision:\n",
      "        Add a non-decision by shifting the histogram\n",
      "        Fixed parameters:\n",
      "        - nondectime: 0.200000\n",
      "    Overlay component OverlayUniformMixture:\n",
      "        Uniform distribution mixture model\n",
      "        Fixed parameters:\n",
      "        - umixturecoef: 0.020000\n",
      "Fit information:\n",
      "    Loss function: BIC\n",
      "    Loss function value: 5322.585912655252\n",
      "    Fitting method: differential_evolution\n",
      "    Solver: auto\n",
      "    Other properties:\n",
      "        - nparams: 3\n",
      "        - samplesize: 10000\n",
      "        - mess: ''\n",
      "\n"
     ]
    }
   ],
   "source": [
    "model_to_fit.show()"
   ]
  },
  {
   "cell_type": "code",
   "execution_count": 20,
   "metadata": {},
   "outputs": [
    {
     "data": {
      "image/png": "[encoded data removed]",
      "text/plain": [
       "<Figure size 432x288 with 2 Axes>"
      ]
     },
     "metadata": {
      "needs_background": "light"
     },
     "output_type": "display_data"
    }
   ],
   "source": [
    "pyddm.plot.plot_fit_diagnostics(model=model_to_fit, sample=samp_simulated)\n",
    "plt.savefig(\"simple-fit.png\")\n",
    "plt.show()"
   ]
  },
  {
   "cell_type": "code",
   "execution_count": null,
   "metadata": {},
   "outputs": [],
   "source": [
    "# Adding Conditions to model."
   ]
  }
 ],
 "metadata": {
  "kernelspec": {
   "display_name": "pyddm",
   "language": "python",
   "name": "python3"
  },
  "language_info": {
   "codemirror_mode": {
    "name": "ipython",
    "version": 3
   },
   "file_extension": ".py",
   "mimetype": "text/x-python",
   "name": "python",
   "nbconvert_exporter": "python",
   "pygments_lexer": "ipython3",
   "version": "3.6.13"
  }
 },
 "nbformat": 4,
 "nbformat_minor": 2
}
